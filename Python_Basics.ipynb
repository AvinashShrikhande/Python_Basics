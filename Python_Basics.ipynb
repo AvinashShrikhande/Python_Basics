{
  "nbformat": 4,
  "nbformat_minor": 0,
  "metadata": {
    "colab": {
      "name": "ython_Basics.ipynb",
      "provenance": [],
      "collapsed_sections": [],
      "authorship_tag": "ABX9TyN6kU8FEEUEZWFaNQZkM0p6",
      "include_colab_link": true
    },
    "kernelspec": {
      "name": "python3",
      "display_name": "Python 3"
    },
    "language_info": {
      "name": "python"
    }
  },
  "cells": [
    {
      "cell_type": "markdown",
      "metadata": {
        "id": "view-in-github",
        "colab_type": "text"
      },
      "source": [
        "<a href=\"https://colab.research.google.com/github/AvinashShrikhande/Python_Basics/blob/main/Python_Basics.ipynb\" target=\"_parent\"><img src=\"https://colab.research.google.com/assets/colab-badge.svg\" alt=\"Open In Colab\"/></a>"
      ]
    },
    {
      "cell_type": "markdown",
      "metadata": {
        "id": "dGjsd-xngPTk"
      },
      "source": [
        "# Python_Basics "
      ]
    },
    {
      "cell_type": "code",
      "metadata": {
        "id": "vRxp1PJCgOxu"
      },
      "source": [
        "# Python's 2 main types for Numbers is int and float (or integers and floating point numbers)\n",
        "\n",
        "type(1)   #int  \n",
        "type(-10) #int\n",
        "type(0)   #int\n",
        "type(0.0) #float\n",
        "type(2.2) #float\n",
        "type(4E2) #float - 4*10 to the power of 2"
      ],
      "execution_count": null,
      "outputs": []
    },
    {
      "cell_type": "code",
      "metadata": {
        "id": "Scso_ODYgKTU"
      },
      "source": [
        "# Arithmetic\n",
        "\n",
        " 10 + 3  # 13\n",
        " 10 - 3  # 7\n",
        " 10 * 3  # 30\n",
        " 10 ** 3 # 1000\n",
        " 10 / 3  # 3.3333333333333335\n",
        " 10 // 3 # 3 --> floor division - no decimals and returns an int\n",
        " 10 % 3  # 1 --> modulo operator - return the reminder. Good for deciding if number is even or odd"
      ],
      "execution_count": null,
      "outputs": []
    },
    {
      "cell_type": "code",
      "metadata": {
        "id": "S8hgo63zhE84"
      },
      "source": [
        "# Basic Functions\n",
        "\n",
        " pow(5, 2)      # 25 --> like doing 5**2\n",
        " abs(-50)       # 50\n",
        " round(5.46)    # 5\n",
        " round(5.468, 2)# 5.47 --> round to nth digit\n",
        " bin(512)       # '0b1000000000' -->  binary format\n",
        " hex(512)       # '0x200' --> hexadecimal format"
      ],
      "execution_count": null,
      "outputs": []
    },
    {
      "cell_type": "code",
      "metadata": {
        "id": "QZTPL3QThFmZ"
      },
      "source": [
        "# Converting Strings to Numbers\n",
        "\n",
        " age = input(\"How old are you?\")\n",
        " age = int(age)\n",
        " pi = input(\"What is the value of pi?\")\n",
        " pi = float(pi)"
      ],
      "execution_count": null,
      "outputs": []
    },
    {
      "cell_type": "markdown",
      "metadata": {
        "id": "0EBAXsabhKuf"
      },
      "source": [
        "## **Variables**"
      ]
    },
    {
      "cell_type": "markdown",
      "metadata": {
        "id": "f_RjOdLpiil-"
      },
      "source": [
        "Variables are easy to understand. They simply point to values."
      ]
    },
    {
      "cell_type": "code",
      "metadata": {
        "colab": {
          "base_uri": "https://localhost:8080/"
        },
        "id": "yXrVhBCxhNsH",
        "outputId": "219ff6fe-ab12-4121-99cb-eca503e592f6"
      },
      "source": [
        "a = 1   # creating a variable of name 'a' equals to 1\n",
        "b = 2   # create another variable\n",
        "a       # get the value that the variable points to"
      ],
      "execution_count": 1,
      "outputs": [
        {
          "output_type": "execute_result",
          "data": {
            "text/plain": [
              "1"
            ]
          },
          "metadata": {
            "tags": []
          },
          "execution_count": 1
        }
      ]
    },
    {
      "cell_type": "markdown",
      "metadata": {
        "id": "W-7Yt9dqiptl"
      },
      "source": [
        "We can also change the value of a variable after setting it"
      ]
    },
    {
      "cell_type": "code",
      "metadata": {
        "colab": {
          "base_uri": "https://localhost:8080/"
        },
        "id": "2-IYtRV3iHQh",
        "outputId": "5fef6a7b-1739-4e8f-a616-ba20c4717072"
      },
      "source": [
        "a = 2    # change values of variable to 2 instead of 1\n",
        "a"
      ],
      "execution_count": 3,
      "outputs": [
        {
          "output_type": "execute_result",
          "data": {
            "text/plain": [
              "2"
            ]
          },
          "metadata": {
            "tags": []
          },
          "execution_count": 3
        }
      ]
    },
    {
      "cell_type": "code",
      "metadata": {
        "colab": {
          "base_uri": "https://localhost:8080/"
        },
        "id": "K4RIOsmjiQyV",
        "outputId": "95975bdb-577b-44d7-f0c5-e0024c92bda5"
      },
      "source": [
        "a = 1\n",
        "b = a  # this makes b point to 1, not a\n",
        "a = 5\n",
        "b      # b didn't change when a changed"
      ],
      "execution_count": 4,
      "outputs": [
        {
          "output_type": "execute_result",
          "data": {
            "text/plain": [
              "1"
            ]
          },
          "metadata": {
            "tags": []
          },
          "execution_count": 4
        }
      ]
    },
    {
      "cell_type": "markdown",
      "metadata": {
        "id": "ku9ZYWWyiwwH"
      },
      "source": [
        "Variable names are case-sensitive, like many other things in Python."
      ]
    },
    {
      "cell_type": "code",
      "metadata": {
        "id": "ZJlVkro6i2sg"
      },
      "source": [
        "thing = 1\n",
        "THING = 2\n",
        "thIng = 3"
      ],
      "execution_count": 6,
      "outputs": []
    },
    {
      "cell_type": "code",
      "metadata": {
        "colab": {
          "base_uri": "https://localhost:8080/"
        },
        "id": "3lfD944VkqV3",
        "outputId": "3602d33b-efaa-4673-811f-9705ba0b943a"
      },
      "source": [
        "thing"
      ],
      "execution_count": 7,
      "outputs": [
        {
          "output_type": "execute_result",
          "data": {
            "text/plain": [
              "1"
            ]
          },
          "metadata": {
            "tags": []
          },
          "execution_count": 7
        }
      ]
    },
    {
      "cell_type": "code",
      "metadata": {
        "colab": {
          "base_uri": "https://localhost:8080/"
        },
        "id": "-tMRd_v8kqOG",
        "outputId": "23f6b9ca-ec51-469c-f7da-3f71f6e815c9"
      },
      "source": [
        "THING"
      ],
      "execution_count": 8,
      "outputs": [
        {
          "output_type": "execute_result",
          "data": {
            "text/plain": [
              "2"
            ]
          },
          "metadata": {
            "tags": []
          },
          "execution_count": 8
        }
      ]
    },
    {
      "cell_type": "code",
      "metadata": {
        "colab": {
          "base_uri": "https://localhost:8080/"
        },
        "id": "yqNl0Y5TkqFt",
        "outputId": "43e05ab9-319b-4001-9287-2dc94d3989c7"
      },
      "source": [
        " thIng"
      ],
      "execution_count": 9,
      "outputs": [
        {
          "output_type": "execute_result",
          "data": {
            "text/plain": [
              "3"
            ]
          },
          "metadata": {
            "tags": []
          },
          "execution_count": 9
        }
      ]
    },
    {
      "cell_type": "markdown",
      "metadata": {
        "id": "wwjBq6fakac2"
      },
      "source": [
        "There are also words that cannot be used as variable names because they have a special meaning. They are called keywords, and we can run help('keywords') to see the full list if we want to. We'll learn to use most of them later in this tutorial. Trying to use a keyword as a variable name causes a syntax error."
      ]
    },
    {
      "cell_type": "code",
      "metadata": {
        "colab": {
          "base_uri": "https://localhost:8080/",
          "height": 128
        },
        "id": "gu2hF6U4ki-l",
        "outputId": "3b7779f1-26fe-4d4e-d258-51ef39062468"
      },
      "source": [
        "if = 123"
      ],
      "execution_count": 5,
      "outputs": [
        {
          "output_type": "error",
          "ename": "SyntaxError",
          "evalue": "ignored",
          "traceback": [
            "\u001b[0;36m  File \u001b[0;32m\"<ipython-input-5-949a24583bb3>\"\u001b[0;36m, line \u001b[0;32m1\u001b[0m\n\u001b[0;31m    if = 123\u001b[0m\n\u001b[0m       ^\u001b[0m\n\u001b[0;31mSyntaxError\u001b[0m\u001b[0;31m:\u001b[0m invalid syntax\n"
          ]
        }
      ]
    },
    {
      "cell_type": "markdown",
      "metadata": {
        "id": "0mxaIE01lRuR"
      },
      "source": [
        "When assigning something to a variable using a =, the right side of the = is always executed before the left side. This means that we can do something with a variable on the right side, then assign the result back to the same variable on the left side."
      ]
    },
    {
      "cell_type": "code",
      "metadata": {
        "colab": {
          "base_uri": "https://localhost:8080/"
        },
        "id": "PfDCk73oknKp",
        "outputId": "65770117-b10a-4665-b0ef-b57084fb12bf"
      },
      "source": [
        "a = 1\n",
        "a = a + 1\n",
        "a"
      ],
      "execution_count": 10,
      "outputs": [
        {
          "output_type": "execute_result",
          "data": {
            "text/plain": [
              "2"
            ]
          },
          "metadata": {
            "tags": []
          },
          "execution_count": 10
        }
      ]
    },
    {
      "cell_type": "markdown",
      "metadata": {
        "id": "4DdnloLLloL7"
      },
      "source": [
        "To do something to a variable (for example, to add something to it) we can also use +=, -=, *= and /= instead of +, -, * and /. The \"advanced\" %= also works"
      ]
    },
    {
      "cell_type": "code",
      "metadata": {
        "id": "S20DcYKilprD"
      },
      "source": [
        "a += 2          # a = a + 2\n",
        "a -= 2          # a = a - 2\n",
        "a *= 2          # a = a * 2\n",
        "a /= 2          # a = a / 2"
      ],
      "execution_count": null,
      "outputs": []
    },
    {
      "cell_type": "markdown",
      "metadata": {
        "id": "hTB8E6jjlzZ-"
      },
      "source": [
        "This is not only limited to integers"
      ]
    },
    {
      "cell_type": "code",
      "metadata": {
        "colab": {
          "base_uri": "https://localhost:8080/",
          "height": 35
        },
        "id": "Rcaagq-wl0jM",
        "outputId": "8c621be6-aa46-4bf4-9968-a0f946e4b172"
      },
      "source": [
        "a = 'hello'\n",
        "a *= 3\n",
        "a += 'world'\n",
        "a"
      ],
      "execution_count": 11,
      "outputs": [
        {
          "output_type": "execute_result",
          "data": {
            "application/vnd.google.colaboratory.intrinsic+json": {
              "type": "string"
            },
            "text/plain": [
              "'hellohellohelloworld'"
            ]
          },
          "metadata": {
            "tags": []
          },
          "execution_count": 11
        }
      ]
    },
    {
      "cell_type": "markdown",
      "metadata": {
        "id": "JBVkL4L9mFiG"
      },
      "source": [
        "### **Strings**"
      ]
    },
    {
      "cell_type": "markdown",
      "metadata": {
        "id": "Sgi8cHVimX8e"
      },
      "source": [
        "strings in python as stored as sequences of letters in memory"
      ]
    },
    {
      "cell_type": "code",
      "metadata": {
        "id": "VzeoHFLQl6KT"
      },
      "source": [
        "type('Hellloooooo') # str\n",
        "\n",
        "'I\\'m thirsty'\n",
        "\"I'm thirsty\"\n",
        "\"\\n\" # new line.\n",
        "\"\\t\" # adds a tab\n",
        "\n",
        "'Hey you!'[4] # y\n",
        "name = 'Avinash Shrikhande'\n",
        "name[4]     # h\n",
        "name[:]     # Rashmi Bhujbal\n",
        "name[1:]    # ashmi Bhujbal\n",
        "name[:1]    # R\n",
        "name[-1]    # m\n",
        "name[::1]   # Rashmi Bhujbal\n",
        "name[::-1]  # labjuhB imhsaR\n",
        "name[0:10:2]# Rsm B\n",
        "# : is called slicing and has the format [ start : end : step ]"
      ],
      "execution_count": null,
      "outputs": []
    },
    {
      "cell_type": "code",
      "metadata": {
        "id": "OeWUYNnam63R"
      },
      "source": [
        "\n",
        "'Hi there ' + 'Timmy' # 'Hi there Timmy' --> This is called string concatenation\n",
        "'*'*10 # **********\n"
      ],
      "execution_count": null,
      "outputs": []
    },
    {
      "cell_type": "markdown",
      "metadata": {
        "id": "dRBC7zbPnJ5K"
      },
      "source": [
        "**# Basic Functions**"
      ]
    },
    {
      "cell_type": "code",
      "metadata": {
        "id": "__o9dj8enH8G"
      },
      "source": [
        "\n",
        "len('turtle') # 6\n",
        "\n",
        "# Basic Methods\n",
        "'  I am alone '.strip()               # 'I am alone' --> Strips all whitespace characters from both ends.\n",
        "'On an island'.strip('d')             # 'On an islan' --> # Strips all passed characters from both ends.\n",
        "'but life is good!'.split()           # ['but', 'life', 'is', 'good!']\n",
        "'Help me'.replace('me', 'you')        # 'Help you' --> Replaces first with second param\n",
        "'Need to make fire'.startswith('Need')# True\n",
        "'and cook rice'.endswith('rice')      # True\n",
        "'bye bye'.index('e')                  # 2\n",
        "'still there?'.upper()                # STILL THERE?\n",
        "'HELLO?!'.lower()                     # hello?!\n",
        "'ok, I am done.'.capitalize()         # 'Ok, I am done.'\n",
        "'oh hi there'.find('i')               # 4 --> returns the starting index position of the first occurence\n",
        "'oh hi there'.count('e')              # 2"
      ],
      "execution_count": null,
      "outputs": []
    },
    {
      "cell_type": "code",
      "metadata": {
        "id": "CIrkGULinU-d"
      },
      "source": [
        "# String Formatting\n",
        "name1 = 'Rashmi'\n",
        "name2 = 'Niki'\n",
        "print(f'Hello there {name1} and {name2}')       # Hello there Rashmi and Niki - Newer way to do things as of python 3.6\n",
        "print('Hello there {}, {}'.format(name1, name2))# Hello there Rashmi and Niki\n",
        "print('Hello there %s and %s' %(name1, name2))  # Hello there Rashmi and Niki --> you can also use %d, %f, %r for integers, floats, string representations of objects respectively"
      ],
      "execution_count": null,
      "outputs": []
    },
    {
      "cell_type": "markdown",
      "metadata": {
        "id": "dp9vqBVOnhh2"
      },
      "source": [
        "### **Boolean**"
      ]
    },
    {
      "cell_type": "code",
      "metadata": {
        "id": "3FA5hOGanjX6"
      },
      "source": [
        "True or False. Used in a lot of comparison and logical operations in Python\n",
        "\n",
        "bool(True)\n",
        "bool(False)\n",
        "\n",
        "# all of the below evaluate to False. Everything else will evaluate to True in Python.\n",
        "print(bool(None))\n",
        "print(bool(False))\n",
        "print(bool(0))\n",
        "print(bool(0.0))\n",
        "print(bool([]))\n",
        "print(bool({}))\n",
        "print(bool(()))\n",
        "print(bool(''))\n",
        "print(bool(range(0)))\n",
        "print(bool(set()))\n",
        "\n",
        "# See Logical Operators and Comparison Operators section for more on booleans."
      ],
      "execution_count": null,
      "outputs": []
    },
    {
      "cell_type": "markdown",
      "metadata": {
        "id": "JeKVNumRnrgo"
      },
      "source": [
        "### **Lists**"
      ]
    },
    {
      "cell_type": "markdown",
      "metadata": {
        "id": "0K6-2xJZnwVO"
      },
      "source": [
        "Unlike strings, lists are mutable sequences in python"
      ]
    },
    {
      "cell_type": "code",
      "metadata": {
        "id": "z8VnAMqOntt8"
      },
      "source": [
        "my_list = [1, 2, '3', True]# we assume this list won't mutate for each example below\n",
        "len(my_list)               # 4\n",
        "my_list.index('3')         # 2\n",
        "my_list.count(2)           # 1 --> count how many times 2 appears\n",
        "\n",
        "my_list[3]                 # True\n",
        "my_list[1:]                # [2, '3', True]\n",
        "my_list[:1]                # [1]\n",
        "my_list[-1]                # True\n",
        "my_list[::1]               # [1, 2, '3', True]\n",
        "my_list[::-1]              # [True, '3', 2, 1]\n",
        "my_list[0:3:2]             # [1, '3']\n",
        "\n",
        "# : is called slicing and has the format [ start : end : step ]\n",
        "# Add to List\n",
        "my_list * 2                # [1, 2, '3', True, 1, 2, '3', True]\n",
        "my_list + [100]            # [1, 2, '3', True, 100] --> doesn't mutate origina list, creates new one\n",
        "my_list.append(100)        # None --> Mutates original list to [1, 2, '3', True, 100]          # Or: <list> += [<el>]\n",
        "my_list.extend([100, 200]) # None --> Mutates original list to [1, 2, '3', True, 100, 200]\n",
        "my_list.insert(2, '!!!')   # None -->  [1, 2, '!!!', '3', True] - Inserts item at index and moves the rest to the right.\n",
        "\n",
        "' '.join(['Hello','There'])# 'Hello There' --> Joins elements using string as separator."
      ],
      "execution_count": null,
      "outputs": []
    },
    {
      "cell_type": "markdown",
      "metadata": {
        "id": "iMe97ZtKn4o7"
      },
      "source": [
        "### **Copy a List**"
      ]
    },
    {
      "cell_type": "code",
      "metadata": {
        "id": "vLl-pJI0n-fk"
      },
      "source": [
        "basket = ['apples', 'pears', 'oranges']\n",
        "new_basket = basket.copy()\n",
        "new_basket2 = basket[:]"
      ],
      "execution_count": null,
      "outputs": []
    },
    {
      "cell_type": "code",
      "metadata": {
        "id": "2aHfn69KoB-N"
      },
      "source": [
        "# Remove from List\n",
        "[1,2,3].pop()    # 3 --> mutates original list, default index in the pop method is -1 (the last item)\n",
        "[1,2,3].pop(1)   # 2 --> mutates original list\n",
        "[1,2,3].remove(2)# None --> [1,3] Removes first occurrence of item or raises ValueError.\n",
        "[1,2,3].clear()  # None --> mutates original list and removes all items: []\n",
        "del [1,2,3][0] # "
      ],
      "execution_count": null,
      "outputs": []
    },
    {
      "cell_type": "code",
      "metadata": {
        "id": "G_kGgCCToFJW"
      },
      "source": [
        "# Ordering\n",
        "[1,2,5,3].sort()         # None --> Mutates list to [1, 2, 3, 5]\n",
        "[1,2,5,3].sort(reverse=True) # None --> Mutates list to [5, 3, 2, 1]\n",
        "[1,2,5,3].reverse()      # None --> Mutates list to [3, 5, 2, 1]\n",
        "sorted([1,2,5,3])        # [1, 2, 3, 5] --> new list created\n",
        "list(reversed([1,2,5,3]))# [3, 5, 2, 1] --> reversed() returns an iterator"
      ],
      "execution_count": null,
      "outputs": []
    },
    {
      "cell_type": "code",
      "metadata": {
        "id": "wX9KmBExoIhk"
      },
      "source": [
        "# Useful operations\n",
        "1 in [1,2,5,3]  # True\n",
        "min([1,2,3,4,5])# 1\n",
        "max([1,2,3,4,5])# 5\n",
        "sum([1,2,3,4,5])# 15"
      ],
      "execution_count": null,
      "outputs": []
    },
    {
      "cell_type": "code",
      "metadata": {
        "id": "d3pMMe7BoLba"
      },
      "source": [
        "# Get First and Last element of a list\n",
        "mList = [63, 21, 30, 14, 35, 26, 77, 18, 49, 10]\n",
        "first, *x, last = mList\n",
        "print(first) #63\n",
        "print(last) #10"
      ],
      "execution_count": null,
      "outputs": []
    },
    {
      "cell_type": "code",
      "metadata": {
        "id": "aDokkynWoPpv"
      },
      "source": [
        "# Matrix\n",
        "matrix = [[1,2,3], [4,5,6], [7,8,9]]\n",
        "matrix[2][0] # 7 --> Grab first first of the third item in the matrix object\n",
        "\n",
        "# Looping through a matrix by rows:\n",
        "mx = [[1,2],[3,4]]\n",
        "for row in range(len(mx)):\n",
        "\tfor col in range(len(mx)):\n",
        "\t\tprint(mx[row][col]) # 1 2 3 4\n",
        "    \n",
        "# Transform into a list:\n",
        "[mx[row][col] for row in range(len(mx)) for col in range(len(mx))] # [1,2,3,4]\n",
        "\n",
        "# Combine columns with zip and *:\n",
        "[x for x in zip(*mx)] # [(1, 3), (2, 4)]"
      ],
      "execution_count": null,
      "outputs": []
    },
    {
      "cell_type": "code",
      "metadata": {
        "id": "0t-PkotfoScK"
      },
      "source": [
        "# List Comprehensions\n",
        "# new_list[<action> for <item> in <iterator> if <some condition>]\n",
        "a = [i for i in 'hello']                  # ['h', 'e', 'l', 'l', '0']\n",
        "b = [i*2 for i in [1,2,3]]                # [2, 4, 6]\n",
        "c = [i for i in range(0,10) if i % 2 == 0]# [0, 2, 4, 6, 8]"
      ],
      "execution_count": null,
      "outputs": []
    },
    {
      "cell_type": "code",
      "metadata": {
        "id": "ywAmRKHQoU6p"
      },
      "source": [
        "# Advanced Functions\n",
        "list_of_chars = list('Helloooo')                                   # ['H', 'e', 'l', 'l', 'o', 'o', 'o', 'o']\n",
        "sum_of_elements = sum([1,2,3,4,5])                                 # 15\n",
        "element_sum = [sum(pair) for pair in zip([1,2,3],[4,5,6])]         # [5, 7, 9]\n",
        "sorted_by_second = sorted(['hi','you','man'], key=lambda el: el[1])# ['man', 'hi', 'you']\n",
        "sorted_by_key = sorted([\n",
        "                       {'name': 'Rash', 'age': 22},\n",
        "                       {'name':'chinmay', 'age': 25},\n",
        "                       {'name': 'Niki', 'age': 23}],\n",
        "                       key=lambda el: (el['name']))# [{'name': 'Rash', 'age': 22}, {'name': 'chinmay', 'age': 25}, {'name': 'Niki', 'age': 23}]"
      ],
      "execution_count": null,
      "outputs": []
    },
    {
      "cell_type": "code",
      "metadata": {
        "id": "Chw6JbPhoXrS"
      },
      "source": [
        "# Read line of a file into a list\n",
        "with open(\"myfile.txt\") as f:\n",
        "  lines = [line.strip() for line in f]"
      ],
      "execution_count": null,
      "outputs": []
    },
    {
      "cell_type": "markdown",
      "metadata": {
        "id": "zfe3Qw20odyN"
      },
      "source": [
        "### **Dictionaries**"
      ]
    },
    {
      "cell_type": "markdown",
      "metadata": {
        "id": "NOwQR4JoogzA"
      },
      "source": [
        "Also known as mappings or hash tables. They are key value pairs that DO NOT retain order"
      ]
    },
    {
      "cell_type": "code",
      "metadata": {
        "id": "BOfmp8VrojXI"
      },
      "source": [
        "my_dict = {'name': 'Rashmi Bhujbal', 'age': 22, 'magic_power': False}\n",
        "my_dict['name']                      # Rashmi Bhujbal\n",
        "len(my_dict)                         # 3\n",
        "list(my_dict.keys())                 # ['name', 'age', 'magic_power']\n",
        "list(my_dict.values())               # ['Rashmi Bhujbal', 22, False]\n",
        "list(my_dict.items())                # [('name', 'Rashmi Bhujbal'), ('age', 22), ('magic_power', False)]\n",
        "my_dict['favourite_snack'] = 'Grapes'# {'name': 'Rashmi Bhujbal', 'age': 22, 'magic_power': False, 'favourite_snack': 'Grapes'}\n",
        "my_dict.get('age')                   # 30 --> Returns None if key does not exist.\n",
        "my_dict.get('ages', 0 )              # 0 --> Returns default (2nd param) if key is not found\n",
        "\n",
        "#Remove key\n",
        "del my_dict['name']\n",
        "my_dict.pop('name', None)"
      ],
      "execution_count": null,
      "outputs": []
    },
    {
      "cell_type": "code",
      "metadata": {
        "id": "2GhUwPZLooGc"
      },
      "source": [
        "my_dict.update({'cool': True})                                         # {'name': 'Rashmi Bhujbal', 'age': 23, 'magic_power': False, 'favourite_snack': 'Grapes', 'cool': True}\n",
        "{**my_dict, **{'cool': True} }                                         # {'name': 'Rashmi Bhujbal', 'age': 23, 'magic_power': False, 'favourite_snack': 'Grapes', 'cool': True}\n",
        "new_dict = dict([['name','Rashmi'],['age',23],['magic_power',False]])  # Creates a dict from collection of key-value pairs.\n",
        "new_dict = dict(zip(['name','age','magic_power'],['Rashmi',23, False]))# Creates a dict from two collections.\n",
        "new_dict = my_dict.pop('favourite_snack')                              # Removes item from dictionary."
      ],
      "execution_count": null,
      "outputs": []
    },
    {
      "cell_type": "code",
      "metadata": {
        "id": "zz2Lfk-YooDh"
      },
      "source": [
        "# Dictionary Comprehension\n",
        "{key: value for key, value in new_dict.items() if key == 'age' or key == 'name'} # {'name': 'Rashmi', 'age': 23} --> Filter dict by keys"
      ],
      "execution_count": null,
      "outputs": []
    },
    {
      "cell_type": "markdown",
      "metadata": {
        "id": "igRLcV7foxm_"
      },
      "source": [
        "### **Tuples**\n"
      ]
    },
    {
      "cell_type": "markdown",
      "metadata": {
        "id": "xvfwZDGco3if"
      },
      "source": [
        "Like lists, but they are used for immutable thing (that don't change)"
      ]
    },
    {
      "cell_type": "code",
      "metadata": {
        "id": "E3hDDLeko4HZ"
      },
      "source": [
        "my_tuple = ('apple','grapes','mango', 'grapes')\n",
        "apple, grapes, mango, grapes = my_tuple# Tuple unpacking\n",
        "len(my_tuple)                          # 4\n",
        "my_tuple[2]                            # mango\n",
        "my_tuple[-1]                           # 'grapes'"
      ],
      "execution_count": null,
      "outputs": []
    },
    {
      "cell_type": "code",
      "metadata": {
        "id": "n0Vv7qHzojTc"
      },
      "source": [
        "# Immutability\n",
        "my_tuple[1] = 'donuts'  #TypeError\n",
        "my_tuple.append('candy')# AttributeError"
      ],
      "execution_count": null,
      "outputs": []
    },
    {
      "cell_type": "code",
      "metadata": {
        "id": "gOBNl7ddojPg"
      },
      "source": [
        "# Methods\n",
        "my_tuple.index('grapes') # 1\n",
        "my_tuple.count('grapes') # 2"
      ],
      "execution_count": null,
      "outputs": []
    },
    {
      "cell_type": "code",
      "metadata": {
        "id": "IgB6RbtWojJG"
      },
      "source": [
        "# Zip\n",
        "list(zip([1,2,3], [4,5,6])) # [(1, 4), (2, 5), (3, 6)]"
      ],
      "execution_count": null,
      "outputs": []
    },
    {
      "cell_type": "code",
      "metadata": {
        "id": "c3nVTB3QojAm"
      },
      "source": [
        "# unzip\n",
        "z = [(1, 2), (3, 4), (5, 6), (7, 8)] #some output of zip() function\n",
        "unzip = lambda z: list(zip(*z))\n",
        "unzip(z)"
      ],
      "execution_count": null,
      "outputs": []
    },
    {
      "cell_type": "markdown",
      "metadata": {
        "id": "ON4RT1lupSAU"
      },
      "source": [
        "### **Sets**"
      ]
    },
    {
      "cell_type": "markdown",
      "metadata": {
        "id": "Wbg3h8xup-lH"
      },
      "source": [
        "Unorderd collection of unique elements."
      ]
    },
    {
      "cell_type": "code",
      "metadata": {
        "id": "B7gkvJnnpP9K"
      },
      "source": [
        "my_set = set()\n",
        "my_set.add(1)  # {1}\n",
        "my_set.add(100)# {1, 100}\n",
        "my_set.add(100)# {1, 100} --> no duplicates!"
      ],
      "execution_count": null,
      "outputs": []
    },
    {
      "cell_type": "code",
      "metadata": {
        "id": "EoF_eOo4pP2l"
      },
      "source": [
        "new_list = [1,2,3,3,3,4,4,5,6,1]\n",
        "set(new_list)           # {1, 2, 3, 4, 5, 6}\n",
        "\n",
        "my_set.remove(100)      # {1} --> Raises KeyError if element not found\n",
        "my_set.discard(100)     # {1} --> Doesn't raise an error if element not found\n",
        "my_set.clear()          # {}\n",
        "new_set = {1,2,3}.copy()# {1,2,3}"
      ],
      "execution_count": null,
      "outputs": []
    },
    {
      "cell_type": "code",
      "metadata": {
        "id": "QoegfQ6BpPx7"
      },
      "source": [
        "set1 = {1,2,3}\n",
        "set2 = {3,4,5}\n",
        "set3 = set1.union(set2)               # {1,2,3,4,5}\n",
        "set4 = set1.intersection(set2)        # {3}\n",
        "set5 = set1.difference(set2)          # {1, 2}\n",
        "set6 = set1.symmetric_difference(set2)# {1, 2, 4, 5}\n",
        "set1.issubset(set2)                   # False\n",
        "set1.issuperset(set2)                 # False\n",
        "set1.isdisjoint(set2)                 # False --> return True if two sets have a null intersection."
      ],
      "execution_count": null,
      "outputs": []
    },
    {
      "cell_type": "code",
      "metadata": {
        "id": "jJ-3oiwgpPsp"
      },
      "source": [
        "# Frozenset\n",
        "# hashable --> it can be used as a key in a dictionary or as an element in a set.\n",
        "<frozenset> = frozenset(<collection>)"
      ],
      "execution_count": null,
      "outputs": []
    },
    {
      "cell_type": "markdown",
      "metadata": {
        "id": "Uu5MLESnqVOo"
      },
      "source": [
        "### **Comparison Operators**"
      ]
    },
    {
      "cell_type": "code",
      "metadata": {
        "id": "dVh61GDkpPkX"
      },
      "source": [
        "==                   # equal values\n",
        "!=                   # not equal\n",
        ">                    # left operand is greater than right operand\n",
        "<                    # left operand is less than right operand\n",
        ">=                   # left operand is greater than or equal to right operand\n",
        "<=                   # left operand is less than or equal to right operand\n",
        "<element> is <element> # check if two operands refer to same object in memory"
      ],
      "execution_count": null,
      "outputs": []
    },
    {
      "cell_type": "markdown",
      "metadata": {
        "id": "3O3joDJHqfHX"
      },
      "source": [
        "### **Logical Operators**"
      ]
    },
    {
      "cell_type": "code",
      "metadata": {
        "id": "cnVofIaXqYQL"
      },
      "source": [
        "1 < 2 and 4 > 1 # True\n",
        "1 > 3 or 4 > 1  # True\n",
        "1 is not 4      # True\n",
        "not True        # False\n",
        "1 not in [2,3,4]# True\n",
        "\n",
        "if <condition that evaluates to boolean>:\n",
        "  # perform action1\n",
        "elif <condition that evaluates to boolean>:\n",
        "  #perform action2\n",
        "else:\n",
        "  # perform action3"
      ],
      "execution_count": null,
      "outputs": []
    },
    {
      "cell_type": "markdown",
      "metadata": {
        "id": "_6Z8_lJiqi1w"
      },
      "source": [
        "### **Loops**"
      ]
    },
    {
      "cell_type": "code",
      "metadata": {
        "id": "xzxkEiR0qYJC"
      },
      "source": [
        "my_list = [1,2,3]\n",
        "my_tuple = (1,2,3)\n",
        "my_list2 = [(1,2), (3,4), (5,6)]\n",
        "my_dict = {'a': 1, 'b': 2. 'c': 3}\n",
        "\n",
        "for num in my_list:\n",
        "    print(num) # 1, 2, 3\n",
        "\n",
        "for num in my_tuple:\n",
        "    print(num) # 1, 2, 3\n",
        "\n",
        "for num in my_list2:\n",
        "    print(num) # (1,2), (3,4), (5,6)\n",
        "\n",
        "for num in '123':\n",
        "    print(num) # 1, 2, 3\n",
        "\n",
        "for k,v in my_dict.items(): #Dictionary Unpacking\n",
        "    print(k) # 'a', 'b', 'c'\n",
        "    print(v) # 1, 2, 3\n",
        "\n",
        "while <condition that evaluates to boolean>:\n",
        "  # action\n",
        "  if <condition that evaluates to boolean>:\n",
        "    break # break out of while loop\n",
        "  if <condition that evaluates to boolean>:\n",
        "    continue #continue to the next line in the block"
      ],
      "execution_count": null,
      "outputs": []
    },
    {
      "cell_type": "markdown",
      "metadata": {
        "id": "8m_BXu_wqqkA"
      },
      "source": [
        "### **Range**"
      ]
    },
    {
      "cell_type": "code",
      "metadata": {
        "id": "3Q8hPuLtqqHN"
      },
      "source": [
        "range(10)          # range(0, 10) --> 0 to 9\n",
        "range(1,10)        # range(1, 10)\n",
        "list(range(0,10,2))# [0, 2, 4, 6, 8]"
      ],
      "execution_count": null,
      "outputs": []
    },
    {
      "cell_type": "markdown",
      "metadata": {
        "id": "Au1j83yNqwOu"
      },
      "source": [
        "### **Enumerate**"
      ]
    },
    {
      "cell_type": "code",
      "metadata": {
        "id": "GHAPdYuJqXSe"
      },
      "source": [
        "for i, el in enumerate('helloo'):\n",
        "  print(f'{i}, {el}')\n",
        "# 0, h\n",
        "# 1, e\n",
        "# 2, l\n",
        "# 3, l\n",
        "# 4, o\n",
        "# 5, o"
      ],
      "execution_count": null,
      "outputs": []
    },
    {
      "cell_type": "markdown",
      "metadata": {
        "id": "PkY76dH2q1Us"
      },
      "source": [
        "### **Counter**\n"
      ]
    },
    {
      "cell_type": "code",
      "metadata": {
        "id": "y5XRzCaKqX2s"
      },
      "source": [
        "from collections import Counter\n",
        "colors = ['red', 'blue', 'yellow', 'blue', 'red', 'blue']\n",
        "counter = Counter(colors)# Counter({'blue': 3, 'red': 2, 'yellow': 1})\n",
        "counter.most_common()[0] #('blue', 3)"
      ],
      "execution_count": null,
      "outputs": []
    },
    {
      "cell_type": "markdown",
      "metadata": {
        "id": "THejaNaoq9qm"
      },
      "source": [
        "Named Tuple"
      ]
    },
    {
      "cell_type": "markdown",
      "metadata": {
        "id": "VT-FOCjDrJy0"
      },
      "source": [
        "\n",
        "\n",
        "*   Tuple is an immutable and hashable list.\n",
        "\n",
        "*   Named tuple is its subclass with named elements.\n",
        "\n",
        "\n"
      ]
    },
    {
      "cell_type": "code",
      "metadata": {
        "id": "a-a1OK_CqXvV"
      },
      "source": [
        "from collections import namedtuple\n",
        "Point = namedtuple('Point', 'x y')\n",
        "p = Point(1, y=2)# Point(x=1, y=2)\n",
        "p[0]             # 1\n",
        "p.x              # 1\n",
        "getattr(p, 'y')  # 2\n",
        "p._fields        # Or: Point._fields #('x', 'y')"
      ],
      "execution_count": null,
      "outputs": []
    },
    {
      "cell_type": "code",
      "metadata": {
        "id": "c7pjiWKIpO6G"
      },
      "source": [
        "from collections import namedtuple\n",
        "Person = namedtuple('Person', 'name height')\n",
        "person = Person('Jean-Luc', 187)\n",
        "f'{person.height}'           # '187'\n",
        "'{p.height}'.format(p=person)# '187'"
      ],
      "execution_count": null,
      "outputs": []
    },
    {
      "cell_type": "markdown",
      "metadata": {
        "id": "ry6KT7CZst1R"
      },
      "source": [
        "### **Scope**\n"
      ]
    },
    {
      "cell_type": "markdown",
      "metadata": {
        "id": "HmX4yz4TsxYv"
      },
      "source": [
        "If variable is being assigned to anywhere in the scope, it is regarded as a local variable, unless it is declared as a 'global' or a 'nonlocal'."
      ]
    },
    {
      "cell_type": "code",
      "metadata": {
        "id": "EBuF4RT3su-x"
      },
      "source": [
        "def get_counter():\n",
        "   i = 0\n",
        "   def out():\n",
        "       nonlocal i\n",
        "       i += 1\n",
        "       return i\n",
        "   return out"
      ],
      "execution_count": null,
      "outputs": []
    },
    {
      "cell_type": "markdown",
      "metadata": {
        "id": "adXmapM0s2a0"
      },
      "source": [
        "### **Module**"
      ]
    },
    {
      "cell_type": "code",
      "metadata": {
        "id": "h_8s-y-Hs5Xz"
      },
      "source": [
        "if __name__ == '__main__': # Runs main() if file wasn't imported.\n",
        "   main()"
      ],
      "execution_count": null,
      "outputs": []
    },
    {
      "cell_type": "code",
      "metadata": {
        "id": "1kYxx0cMs5DJ"
      },
      "source": [
        "import <module_name>\n",
        "from <module_name> import <function_name>\n",
        "import <module_name> as m\n",
        "from <module_name> import <function_name> as m_function\n",
        "from <module_name> import *"
      ],
      "execution_count": null,
      "outputs": []
    }
  ]
}